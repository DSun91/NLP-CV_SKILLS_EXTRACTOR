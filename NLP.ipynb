{
 "cells": [
  {
   "cell_type": "markdown",
   "metadata": {},
   "source": [
    "# <center>CV SKILL EXTRACTION</center>\n"
   ]
  },
  {
   "cell_type": "markdown",
   "metadata": {},
   "source": [
    "##### This notebook contains an implementation of a system for extracting information regarding skills contained in the CVs through NLP technique, and the graphic representation of skills based on their semantic affinity. <br/> For this purpose a small dataset is built manually and used to train a model which will be tested on a sample CV. <br/> The final result is the definition of the \"extract_skills\" function which takes a string as an argument and returns all the skills or abilities that the model has been able to extract."
   ]
  },
  {
   "cell_type": "markdown",
   "metadata": {},
   "source": [
    "##### The pyhton code needs the following packages to run:"
   ]
  },
  {
   "cell_type": "code",
   "execution_count": 1,
   "metadata": {},
   "outputs": [],
   "source": [
    "#vec2graph==0.3.0\n",
    "#tensorflow==2.1.0\n",
    "#pandas==1.0.1\n",
    "#matplotlib==3.1.3\n",
    "#gensim==3.8.3\n",
    "#nltk==3.5\n",
    "#numpy==1.18.1\n",
    "#spacy==2.3.2\n",
    "#fitz==0.0.1.dev2\n",
    "#scikit_learn==0.23.2\n",
    "#spacy en_core_web_sm\n",
    "#nltk==3.5"
   ]
  },
  {
   "cell_type": "markdown",
   "metadata": {},
   "source": [
    "### <center>TRAINING DATASET</center>"
   ]
  },
  {
   "cell_type": "markdown",
   "metadata": {},
   "source": [
    "##### The starting point and also the most fundamental one is the availability of a tailor-made dataset on which to train the model, <br/> in this example one dataset is created using 4 generic CVs in .pdf format found on the web. <br/> The approach to solving the problem is to combine the contents of the different files to obtain a single text, then divide the text into nominal sentences and build a dataset where each piece of text is assigned the skill / non skill category. This way the problem now simplify to that of a binary classification."
   ]
  },
  {
   "cell_type": "code",
   "execution_count": 2,
   "metadata": {},
   "outputs": [],
   "source": [
    "import pandas as pd\n",
    "import numpy as np\n",
    "import spacy\n",
    "import fitz\n"
   ]
  },
  {
   "cell_type": "code",
   "execution_count": 3,
   "metadata": {},
   "outputs": [],
   "source": [
    "fnames = ['./cvs/Academic Advisor.pdf',\n",
    "          './cvs/Academic Librarian.pdf',\n",
    "          './cvs/Fresher Graduate.pdf',\n",
    "          './cvs/Graduate Nurse Practitioner.pdf'] # lista contenente i nomi dei file per il traning dataset"
   ]
  },
  {
   "cell_type": "code",
   "execution_count": 4,
   "metadata": {},
   "outputs": [],
   "source": [
    "text = \"\"\n",
    "for i in range(len(fnames)):\n",
    "    doc = fitz.open(fnames[i])\n",
    "    for page in doc:\n",
    "        text = text + str(page.getText())#concateno tutte le pagine di tutti i pdf\n",
    "\n",
    "text = '  '.join(text.split('\\n'))#elimino tutti i caratteri new line e semplifico la formattazione \n",
    "#text"
   ]
  },
  {
   "cell_type": "markdown",
   "metadata": {},
   "source": [
    "##### Once the unified text of all the pdf files has been obtained, the text is first cleaned of any punctuation or unwanted symbol between separate words, then the text is divided into nominal sentences. <br/> For this task we will use the pre-trained model \"en_core_web_md\" of the spacy library."
   ]
  },
  {
   "cell_type": "code",
   "execution_count": 5,
   "metadata": {},
   "outputs": [
    {
     "data": {
      "text/html": [
       "<div>\n",
       "<style scoped>\n",
       "    .dataframe tbody tr th:only-of-type {\n",
       "        vertical-align: middle;\n",
       "    }\n",
       "\n",
       "    .dataframe tbody tr th {\n",
       "        vertical-align: top;\n",
       "    }\n",
       "\n",
       "    .dataframe thead th {\n",
       "        text-align: right;\n",
       "    }\n",
       "</style>\n",
       "<table border=\"1\" class=\"dataframe\">\n",
       "  <thead>\n",
       "    <tr style=\"text-align: right;\">\n",
       "      <th></th>\n",
       "      <th>Chuncks</th>\n",
       "    </tr>\n",
       "  </thead>\n",
       "  <tbody>\n",
       "    <tr>\n",
       "      <th>0</th>\n",
       "      <td></td>\n",
       "    </tr>\n",
       "    <tr>\n",
       "      <th>1</th>\n",
       "      <td>the   future</td>\n",
       "    </tr>\n",
       "    <tr>\n",
       "      <th>2</th>\n",
       "      <td>my teamwork and   communication skills</td>\n",
       "    </tr>\n",
       "    <tr>\n",
       "      <th>3</th>\n",
       "      <td>a template</td>\n",
       "    </tr>\n",
       "    <tr>\n",
       "      <th>4</th>\n",
       "      <td>filter performance evaluation</td>\n",
       "    </tr>\n",
       "  </tbody>\n",
       "</table>\n",
       "</div>"
      ],
      "text/plain": [
       "                                  Chuncks\n",
       "0                                        \n",
       "1                            the   future\n",
       "2  my teamwork and   communication skills\n",
       "3                              a template\n",
       "4           filter performance evaluation"
      ]
     },
     "execution_count": 5,
     "metadata": {},
     "output_type": "execute_result"
    }
   ],
   "source": [
    "nlp = spacy.load(\"en_core_web_md\")\n",
    "punteggiatura='!\"#$%&\\'()*,//:;<=>?@[\\\\]^_`{|}~'\n",
    "doc_nlp = nlp(text)\n",
    "sk=[]\n",
    "for chunk in doc_nlp.noun_chunks:\n",
    "    #print(chunk.text)\n",
    "    text_chunk=chunk.text\n",
    "    sk.append(text_chunk.strip(punteggiatura))\n",
    "sk=list(set(sk))\n",
    "df=pd.DataFrame(sk,columns=['Chuncks'])\n",
    "df.head()"
   ]
  },
  {
   "cell_type": "markdown",
   "metadata": {},
   "source": [
    "##### We proceeded with the manual skill / non-skill labeling of each piece of text contained in the newly built dataframe obtaining the following result:"
   ]
  },
  {
   "cell_type": "code",
   "execution_count": 6,
   "metadata": {},
   "outputs": [
    {
     "name": "stdout",
     "output_type": "stream",
     "text": [
      "Conto skills vs non skills:\n",
      " 0    769\n",
      "1    259\n",
      "Name: skill, dtype: int64 \n",
      "\n",
      "\n"
     ]
    },
    {
     "data": {
      "text/html": [
       "<div>\n",
       "<style scoped>\n",
       "    .dataframe tbody tr th:only-of-type {\n",
       "        vertical-align: middle;\n",
       "    }\n",
       "\n",
       "    .dataframe tbody tr th {\n",
       "        vertical-align: top;\n",
       "    }\n",
       "\n",
       "    .dataframe thead th {\n",
       "        text-align: right;\n",
       "    }\n",
       "</style>\n",
       "<table border=\"1\" class=\"dataframe\">\n",
       "  <thead>\n",
       "    <tr style=\"text-align: right;\">\n",
       "      <th></th>\n",
       "      <th>chunck</th>\n",
       "      <th>skill</th>\n",
       "    </tr>\n",
       "  </thead>\n",
       "  <tbody>\n",
       "    <tr>\n",
       "      <th>1018</th>\n",
       "      <td>any order</td>\n",
       "      <td>0</td>\n",
       "    </tr>\n",
       "    <tr>\n",
       "      <th>1019</th>\n",
       "      <td>javascript</td>\n",
       "      <td>1</td>\n",
       "    </tr>\n",
       "    <tr>\n",
       "      <th>1020</th>\n",
       "      <td>your previous education</td>\n",
       "      <td>0</td>\n",
       "    </tr>\n",
       "    <tr>\n",
       "      <th>1021</th>\n",
       "      <td>the latest tools</td>\n",
       "      <td>0</td>\n",
       "    </tr>\n",
       "    <tr>\n",
       "      <th>1022</th>\n",
       "      <td>structure xxth</td>\n",
       "      <td>0</td>\n",
       "    </tr>\n",
       "    <tr>\n",
       "      <th>1023</th>\n",
       "      <td>skill</td>\n",
       "      <td>0</td>\n",
       "    </tr>\n",
       "    <tr>\n",
       "      <th>1024</th>\n",
       "      <td>personal information</td>\n",
       "      <td>0</td>\n",
       "    </tr>\n",
       "    <tr>\n",
       "      <th>1025</th>\n",
       "      <td>c++</td>\n",
       "      <td>1</td>\n",
       "    </tr>\n",
       "    <tr>\n",
       "      <th>1026</th>\n",
       "      <td>java</td>\n",
       "      <td>1</td>\n",
       "    </tr>\n",
       "    <tr>\n",
       "      <th>1027</th>\n",
       "      <td>statisticalprocess analysis</td>\n",
       "      <td>1</td>\n",
       "    </tr>\n",
       "  </tbody>\n",
       "</table>\n",
       "</div>"
      ],
      "text/plain": [
       "                           chunck  skill\n",
       "1018                    any order      0\n",
       "1019                  javascript       1\n",
       "1020      your previous education      0\n",
       "1021             the latest tools      0\n",
       "1022               structure xxth      0\n",
       "1023                    skill          0\n",
       "1024         personal information      0\n",
       "1025                          c++      1\n",
       "1026                         java      1\n",
       "1027  statisticalprocess analysis      1"
      ]
     },
     "execution_count": 6,
     "metadata": {},
     "output_type": "execute_result"
    }
   ],
   "source": [
    "df=pd.read_csv('./Train_db.csv')\n",
    "print('Conto skills vs non skills:\\n',df['skill'].value_counts(),'\\n\\n')\n",
    "df.tail(10)"
   ]
  },
  {
   "cell_type": "markdown",
   "metadata": {},
   "source": [
    "##### As can be seen, the training dataset obtained is unbalanced with 769 non-skill values encoded as '0' and 259 skill values encoded as '1'. To take into account this fact we calculate the values of the penalty weights that will be passed to the model in the training phase:"
   ]
  },
  {
   "cell_type": "code",
   "execution_count": 7,
   "metadata": {},
   "outputs": [
    {
     "name": "stderr",
     "output_type": "stream",
     "text": [
      "c:\\users\\sunny\\pycharmprojects\\pr\\venv\\lib\\site-packages\\sklearn\\utils\\validation.py:70: FutureWarning: Pass classes=[0 1], y=0       0\n",
      "1       0\n",
      "2       0\n",
      "3       0\n",
      "4       0\n",
      "       ..\n",
      "1023    0\n",
      "1024    0\n",
      "1025    1\n",
      "1026    1\n",
      "1027    1\n",
      "Name: skill, Length: 1028, dtype: int64 as keyword args. From version 0.25 passing these as positional arguments will result in an error\n",
      "  FutureWarning)\n"
     ]
    },
    {
     "data": {
      "text/plain": [
       "{0: 0.6684005201560468, 1: 1.9845559845559846}"
      ]
     },
     "execution_count": 7,
     "metadata": {},
     "output_type": "execute_result"
    }
   ],
   "source": [
    "from sklearn.utils import class_weight\n",
    "class_weights = class_weight.compute_class_weight('balanced',np.unique(df['skill']),df['skill'])\n",
    "class_weights = dict(enumerate(class_weights))\n",
    "class_weights\n"
   ]
  },
  {
   "cell_type": "markdown",
   "metadata": {},
   "source": [
    "### <center>NLP MODEL</center>"
   ]
  },
  {
   "cell_type": "markdown",
   "metadata": {},
   "source": [
    "##### As far as the architecture of the model is concerned, we will implement a recurrent neural network architecture and in particular the Long Short Term Memory (LSTM) model in standard and bidirectional configuration to keep as much information as possible about the context of the different terms. The model also includes the insertion of an embedding layer upstream of the LSTM in order to obtain a vocabulary which contains the vector representation of each word from which it will then be possible to trace the information relating to the semantic context."
   ]
  },
  {
   "cell_type": "markdown",
   "metadata": {},
   "source": [
    "##### The following imports are now required"
   ]
  },
  {
   "cell_type": "code",
   "execution_count": 8,
   "metadata": {},
   "outputs": [],
   "source": [
    "import tensorflow as tf\n",
    "from tensorflow.keras.preprocessing.text import Tokenizer\n",
    "from tensorflow.keras.preprocessing.sequence import pad_sequences\n",
    "import matplotlib.pyplot as plt\n",
    "from sklearn.preprocessing import LabelEncoder\n",
    "import pickle\n",
    "from nltk.corpus import stopwords"
   ]
  },
  {
   "cell_type": "markdown",
   "metadata": {},
   "source": [
    "##### The following function will be used to eliminate the stop words:"
   ]
  },
  {
   "cell_type": "code",
   "execution_count": 9,
   "metadata": {},
   "outputs": [],
   "source": [
    "def filter_stop_words(train_sentences):\n",
    "    stop_words = set(stopwords.words(\"english\"))\n",
    "    for i, sentence in enumerate(train_sentences):\n",
    "        new_sent = [word for word in sentence.split() if word not in stop_words]\n",
    "        train_sentences[i] = ' '.join(new_sent)\n",
    "\n",
    "    return train_sentences"
   ]
  },
  {
   "cell_type": "markdown",
   "metadata": {},
   "source": [
    "##### The following function has the objective of creating a numeric dictionary with the words of the column containing the text, replacing the words of each box with its value and padding in order to have the column of pieces of text of homogeneous length:"
   ]
  },
  {
   "cell_type": "code",
   "execution_count": 10,
   "metadata": {},
   "outputs": [],
   "source": [
    "def token_and_sequence(text_col,padding_pre_or_post,return_df=False,max_num_words=None,max_len_padded=None):\n",
    "\n",
    "    if max_num_words:\n",
    "        tokenizer = Tokenizer(num_words=max_num_words,oov_token='out_of_vocab',filters=punteggiatura)\n",
    "    else:\n",
    "        tokenizer = Tokenizer(oov_token='out_of_vocab')\n",
    "\n",
    "    text_col=filter_stop_words(text_col)\n",
    "    tokenizer.fit_on_texts(text_col)\n",
    "    dictionary=tokenizer.index_word\n",
    "    #print(len(dictionary))\n",
    "    encode_text=tokenizer.texts_to_sequences(text_col)\n",
    "\n",
    "    if max_len_padded:\n",
    "        pad_= pad_sequences(sequences=encode_text,padding=padding_pre_or_post,maxlen=max_len_padded)\n",
    "    else:\n",
    "        pad_ = pad_sequences(sequences=encode_text, padding=padding_pre_or_post)\n",
    "\n",
    "\n",
    "    #non_zeros = np.count_nonzero(pad_, axis=0)\n",
    "    #plt.bar(np.arange(len(non_zeros)), non_zeros)\n",
    "    #plt.show()\n",
    "\n",
    "    with open('tokenizer.pickle', 'wb') as handle:\n",
    "        pickle.dump(tokenizer, handle, protocol=pickle.HIGHEST_PROTOCOL)\n",
    "\n",
    "    if return_df==True:\n",
    "        names = [('text_' + str(x)) for x in range(pad_.shape[1])]\n",
    "        encod_df = pd.DataFrame(pad_.tolist(), columns=names)\n",
    "        return encod_df,tokenizer,dictionary\n",
    "\n",
    "    return pad_,tokenizer,dictionary"
   ]
  },
  {
   "cell_type": "markdown",
   "metadata": {},
   "source": [
    "##### We will use an embedding layer of 1085x35 with 1085 equal to the total number of words in the training dataset, and 35 arbitrary value that will represent the size of the vector associated with each word of the vocabulary. <br/> The model provides a cascade convolution layer with 5 filters, kernel size equal to 3 and relu activation, a fully connected layer at 128 nodes and relu activation, a bi-directional 64-node LSTM followed by a 32-node LSTM, and finally the output node with sigmoid activation."
   ]
  },
  {
   "cell_type": "code",
   "execution_count": 26,
   "metadata": {},
   "outputs": [
    {
     "name": "stderr",
     "output_type": "stream",
     "text": [
      "c:\\users\\sunny\\pycharmprojects\\pr\\venv\\lib\\site-packages\\ipykernel_launcher.py:5: SettingWithCopyWarning: \n",
      "A value is trying to be set on a copy of a slice from a DataFrame\n",
      "\n",
      "See the caveats in the documentation: https://pandas.pydata.org/pandas-docs/stable/user_guide/indexing.html#returning-a-view-versus-a-copy\n",
      "  \"\"\"\n"
     ]
    },
    {
     "name": "stdout",
     "output_type": "stream",
     "text": [
      "Model: \"sequential_8\"\n",
      "_________________________________________________________________\n",
      "Layer (type)                 Output Shape              Param #   \n",
      "=================================================================\n",
      "embedding_8 (Embedding)      (None, 10, 35)            37975     \n",
      "_________________________________________________________________\n",
      "conv1d_8 (Conv1D)            (None, 6, 5)              880       \n",
      "_________________________________________________________________\n",
      "dense_16 (Dense)             (None, 6, 128)            768       \n",
      "_________________________________________________________________\n",
      "bidirectional_8 (Bidirection (None, 6, 128)            98816     \n",
      "_________________________________________________________________\n",
      "lstm_17 (LSTM)               (None, 32)                20608     \n",
      "_________________________________________________________________\n",
      "dense_17 (Dense)             (None, 1)                 33        \n",
      "=================================================================\n",
      "Total params: 159,080\n",
      "Trainable params: 159,080\n",
      "Non-trainable params: 0\n",
      "_________________________________________________________________\n",
      "None\n",
      "WARNING:tensorflow:sample_weight modes were coerced from\n",
      "  ...\n",
      "    to  \n",
      "  ['...']\n",
      "WARNING:tensorflow:sample_weight modes were coerced from\n",
      "  ...\n",
      "    to  \n",
      "  ['...']\n",
      "Train on 771 samples, validate on 257 samples\n",
      "Epoch 1/300\n",
      "771/771 [==============================] - 3s 4ms/sample - loss: 0.6959 - acc: 0.5577 - val_loss: 0.7010 - val_acc: 0.2607\n",
      "Epoch 2/300\n",
      "771/771 [==============================] - 0s 411us/sample - loss: 0.6917 - acc: 0.2490 - val_loss: 0.7013 - val_acc: 0.2607\n",
      "Epoch 3/300\n",
      "771/771 [==============================] - 0s 394us/sample - loss: 0.6924 - acc: 0.2490 - val_loss: 0.7009 - val_acc: 0.2607\n",
      "Epoch 4/300\n",
      "771/771 [==============================] - 0s 411us/sample - loss: 0.6912 - acc: 0.5746 - val_loss: 0.7063 - val_acc: 0.7393\n",
      "Epoch 5/300\n",
      "771/771 [==============================] - 0s 412us/sample - loss: 0.6972 - acc: 0.7510 - val_loss: 0.7064 - val_acc: 0.7393\n",
      "Epoch 6/300\n",
      "771/771 [==============================] - 0s 410us/sample - loss: 0.6939 - acc: 0.7471 - val_loss: 0.7012 - val_acc: 0.7393\n",
      "Epoch 7/300\n",
      "771/771 [==============================] - 0s 402us/sample - loss: 0.6900 - acc: 0.7510 - val_loss: 0.7020 - val_acc: 0.7393\n",
      "Epoch 8/300\n",
      "771/771 [==============================] - 0s 395us/sample - loss: 0.6898 - acc: 0.7510 - val_loss: 0.7005 - val_acc: 0.7432\n",
      "Epoch 9/300\n",
      "771/771 [==============================] - 0s 406us/sample - loss: 0.6860 - acc: 0.8431 - val_loss: 0.6934 - val_acc: 0.6809\n",
      "Epoch 10/300\n",
      "771/771 [==============================] - 0s 405us/sample - loss: 0.6447 - acc: 0.8794 - val_loss: 0.6417 - val_acc: 0.7315\n",
      "Epoch 11/300\n",
      "771/771 [==============================] - 0s 405us/sample - loss: 0.4706 - acc: 0.9235 - val_loss: 0.6416 - val_acc: 0.7782\n",
      "Epoch 12/300\n",
      "771/771 [==============================] - 0s 402us/sample - loss: 0.3364 - acc: 0.9261 - val_loss: 0.9287 - val_acc: 0.7665\n",
      "Epoch 13/300\n",
      "771/771 [==============================] - 0s 388us/sample - loss: 0.1947 - acc: 0.9559 - val_loss: 1.5238 - val_acc: 0.7588\n",
      "Epoch 14/300\n",
      "771/771 [==============================] - 0s 425us/sample - loss: 0.1388 - acc: 0.9728 - val_loss: 1.7617 - val_acc: 0.7588\n",
      "Epoch 15/300\n",
      "771/771 [==============================] - 0s 395us/sample - loss: 0.1060 - acc: 0.9818 - val_loss: 1.6161 - val_acc: 0.7588\n",
      "Epoch 16/300\n",
      "771/771 [==============================] - 0s 419us/sample - loss: 0.0878 - acc: 0.9870 - val_loss: 1.3737 - val_acc: 0.7704\n",
      "Epoch 17/300\n",
      "771/771 [==============================] - 0s 410us/sample - loss: 0.0962 - acc: 0.9818 - val_loss: 1.3233 - val_acc: 0.7588\n",
      "Epoch 18/300\n",
      "771/771 [==============================] - 0s 415us/sample - loss: 0.0882 - acc: 0.9857 - val_loss: 1.3587 - val_acc: 0.7549\n",
      "Epoch 19/300\n",
      "771/771 [==============================] - 0s 411us/sample - loss: 0.1054 - acc: 0.9831 - val_loss: 1.4371 - val_acc: 0.7471\n",
      "Epoch 20/300\n",
      "771/771 [==============================] - 0s 400us/sample - loss: 0.0926 - acc: 0.9857 - val_loss: 1.4658 - val_acc: 0.7510\n",
      "Epoch 21/300\n",
      "771/771 [==============================] - 0s 406us/sample - loss: 0.0809 - acc: 0.9870 - val_loss: 1.5141 - val_acc: 0.7549\n",
      "Epoch 22/300\n",
      "771/771 [==============================] - 0s 393us/sample - loss: 0.0797 - acc: 0.9883 - val_loss: 1.5918 - val_acc: 0.7510\n",
      "Epoch 23/300\n",
      "771/771 [==============================] - 0s 410us/sample - loss: 0.0791 - acc: 0.9883 - val_loss: 1.5812 - val_acc: 0.7549\n",
      "Epoch 24/300\n",
      "771/771 [==============================] - 0s 404us/sample - loss: 0.0763 - acc: 0.9883 - val_loss: 1.5443 - val_acc: 0.7626\n",
      "Epoch 25/300\n",
      "771/771 [==============================] - 0s 395us/sample - loss: 0.0797 - acc: 0.9883 - val_loss: 1.4609 - val_acc: 0.7510\n",
      "Epoch 26/300\n",
      "771/771 [==============================] - 0s 406us/sample - loss: 0.0670 - acc: 0.9896 - val_loss: 1.4726 - val_acc: 0.7510\n",
      "Epoch 27/300\n",
      "771/771 [==============================] - 0s 396us/sample - loss: 0.0606 - acc: 0.9909 - val_loss: 1.4140 - val_acc: 0.7704\n",
      "Epoch 28/300\n",
      "771/771 [==============================] - 0s 413us/sample - loss: 0.0643 - acc: 0.9896 - val_loss: 1.4165 - val_acc: 0.7471\n",
      "Epoch 29/300\n",
      "771/771 [==============================] - 0s 410us/sample - loss: 0.0629 - acc: 0.9870 - val_loss: 1.3583 - val_acc: 0.7549\n",
      "Epoch 30/300\n",
      "771/771 [==============================] - 0s 405us/sample - loss: 0.0579 - acc: 0.9857 - val_loss: 1.3349 - val_acc: 0.7588\n",
      "Epoch 31/300\n",
      "771/771 [==============================] - 0s 412us/sample - loss: 0.0459 - acc: 0.9896 - val_loss: 1.3954 - val_acc: 0.7588\n",
      "Epoch 32/300\n",
      "771/771 [==============================] - 0s 411us/sample - loss: 0.0452 - acc: 0.9896 - val_loss: 1.5084 - val_acc: 0.7626\n",
      "Epoch 33/300\n",
      "771/771 [==============================] - 0s 407us/sample - loss: 0.0431 - acc: 0.9883 - val_loss: 2.1207 - val_acc: 0.7665\n",
      "Epoch 34/300\n",
      "771/771 [==============================] - 0s 403us/sample - loss: 0.0916 - acc: 0.9896 - val_loss: 1.5072 - val_acc: 0.7704\n",
      "Epoch 35/300\n",
      "771/771 [==============================] - 0s 399us/sample - loss: 0.0496 - acc: 0.9870 - val_loss: 1.0541 - val_acc: 0.7665\n",
      "Epoch 36/300\n",
      "771/771 [==============================] - 0s 411us/sample - loss: 0.0478 - acc: 0.9870 - val_loss: 1.0937 - val_acc: 0.7626\n",
      "Epoch 37/300\n",
      "771/771 [==============================] - 0s 411us/sample - loss: 0.0458 - acc: 0.9883 - val_loss: 1.2559 - val_acc: 0.7704\n",
      "Epoch 38/300\n",
      "771/771 [==============================] - 0s 405us/sample - loss: 0.0566 - acc: 0.9883 - val_loss: 1.3426 - val_acc: 0.7704\n",
      "Epoch 39/300\n",
      "771/771 [==============================] - 0s 396us/sample - loss: 0.0387 - acc: 0.9896 - val_loss: 1.4280 - val_acc: 0.7743\n",
      "Epoch 40/300\n",
      "771/771 [==============================] - 0s 411us/sample - loss: 0.0467 - acc: 0.9870 - val_loss: 1.6344 - val_acc: 0.7782\n",
      "Epoch 41/300\n",
      "771/771 [==============================] - 0s 398us/sample - loss: 0.0349 - acc: 0.9896 - val_loss: 1.8523 - val_acc: 0.7743\n",
      "Epoch 42/300\n",
      "771/771 [==============================] - 0s 401us/sample - loss: 0.0414 - acc: 0.9754 - val_loss: 1.3191 - val_acc: 0.6420\n",
      "Epoch 43/300\n",
      "771/771 [==============================] - 0s 402us/sample - loss: 0.0482 - acc: 0.9663 - val_loss: 1.2224 - val_acc: 0.7237\n",
      "Epoch 44/300\n",
      "771/771 [==============================] - 0s 399us/sample - loss: 0.0443 - acc: 0.9844 - val_loss: 1.2888 - val_acc: 0.7626\n",
      "Epoch 45/300\n",
      "771/771 [==============================] - 0s 396us/sample - loss: 0.0362 - acc: 0.9896 - val_loss: 1.4027 - val_acc: 0.7432\n",
      "Epoch 46/300\n",
      "771/771 [==============================] - 0s 398us/sample - loss: 0.0426 - acc: 0.9883 - val_loss: 1.3828 - val_acc: 0.7082\n",
      "Epoch 47/300\n",
      "771/771 [==============================] - 0s 403us/sample - loss: 0.0341 - acc: 0.9883 - val_loss: 1.3978 - val_acc: 0.7276\n",
      "Epoch 48/300\n",
      "771/771 [==============================] - 0s 395us/sample - loss: 0.0284 - acc: 0.9896 - val_loss: 1.4535 - val_acc: 0.7471\n",
      "Epoch 49/300\n",
      "771/771 [==============================] - 0s 390us/sample - loss: 0.0285 - acc: 0.9896 - val_loss: 1.5231 - val_acc: 0.7471\n",
      "Epoch 50/300\n"
     ]
    },
    {
     "name": "stdout",
     "output_type": "stream",
     "text": [
      "771/771 [==============================] - 0s 391us/sample - loss: 0.0269 - acc: 0.9896 - val_loss: 1.5606 - val_acc: 0.7510\n",
      "Epoch 51/300\n",
      "771/771 [==============================] - 0s 411us/sample - loss: 0.0264 - acc: 0.9896 - val_loss: 1.5775 - val_acc: 0.7471\n",
      "Epoch 52/300\n",
      "771/771 [==============================] - 0s 399us/sample - loss: 0.0250 - acc: 0.9909 - val_loss: 1.5988 - val_acc: 0.7549\n",
      "Epoch 53/300\n",
      "771/771 [==============================] - 0s 402us/sample - loss: 0.0247 - acc: 0.9909 - val_loss: 1.6237 - val_acc: 0.7510\n",
      "Epoch 54/300\n",
      "771/771 [==============================] - 0s 404us/sample - loss: 0.0234 - acc: 0.9909 - val_loss: 1.6350 - val_acc: 0.7510\n",
      "Epoch 55/300\n",
      "771/771 [==============================] - 0s 413us/sample - loss: 0.0232 - acc: 0.9909 - val_loss: 1.6316 - val_acc: 0.7432\n",
      "Epoch 56/300\n",
      "771/771 [==============================] - 0s 392us/sample - loss: 0.0230 - acc: 0.9922 - val_loss: 1.6011 - val_acc: 0.7510\n",
      "Epoch 57/300\n",
      "771/771 [==============================] - 0s 394us/sample - loss: 0.0227 - acc: 0.9922 - val_loss: 1.6591 - val_acc: 0.7549\n",
      "Epoch 58/300\n",
      "771/771 [==============================] - 0s 404us/sample - loss: 0.0215 - acc: 0.9909 - val_loss: 1.7876 - val_acc: 0.7471\n",
      "Epoch 59/300\n",
      "771/771 [==============================] - 0s 431us/sample - loss: 0.0200 - acc: 0.9935 - val_loss: 1.8301 - val_acc: 0.7471\n",
      "Epoch 60/300\n",
      "771/771 [==============================] - 0s 389us/sample - loss: 0.0213 - acc: 0.9935 - val_loss: 1.8602 - val_acc: 0.7471\n",
      "Epoch 61/300\n",
      "771/771 [==============================] - 0s 412us/sample - loss: 0.0199 - acc: 0.9935 - val_loss: 1.9063 - val_acc: 0.7471\n",
      "Epoch 62/300\n",
      "771/771 [==============================] - 0s 406us/sample - loss: 0.0194 - acc: 0.9935 - val_loss: 1.9191 - val_acc: 0.7510\n",
      "Epoch 63/300\n",
      "771/771 [==============================] - 0s 394us/sample - loss: 0.0194 - acc: 0.9935 - val_loss: 1.9341 - val_acc: 0.7510\n",
      "Epoch 64/300\n",
      "771/771 [==============================] - 0s 409us/sample - loss: 0.0194 - acc: 0.9935 - val_loss: 1.9484 - val_acc: 0.7510\n",
      "Epoch 65/300\n",
      "771/771 [==============================] - 0s 389us/sample - loss: 0.0193 - acc: 0.9935 - val_loss: 1.9616 - val_acc: 0.7471\n",
      "Epoch 66/300\n",
      "771/771 [==============================] - 0s 410us/sample - loss: 0.0210 - acc: 0.9935 - val_loss: 1.9941 - val_acc: 0.7510\n",
      "Epoch 67/300\n",
      "771/771 [==============================] - 0s 390us/sample - loss: 0.0209 - acc: 0.9935 - val_loss: 1.9976 - val_acc: 0.7510\n",
      "Epoch 68/300\n",
      "771/771 [==============================] - 0s 390us/sample - loss: 0.0218 - acc: 0.9935 - val_loss: 1.9666 - val_acc: 0.7510\n",
      "Epoch 69/300\n",
      "771/771 [==============================] - 0s 408us/sample - loss: 0.0209 - acc: 0.9935 - val_loss: 1.9440 - val_acc: 0.7510\n",
      "Epoch 70/300\n",
      "771/771 [==============================] - 0s 391us/sample - loss: 0.0199 - acc: 0.9935 - val_loss: 1.9359 - val_acc: 0.7510\n",
      "Epoch 71/300\n",
      "771/771 [==============================] - 0s 410us/sample - loss: 0.0198 - acc: 0.9935 - val_loss: 1.9347 - val_acc: 0.7510\n",
      "Epoch 72/300\n",
      "771/771 [==============================] - 0s 389us/sample - loss: 0.0196 - acc: 0.9935 - val_loss: 1.9384 - val_acc: 0.7510\n",
      "Epoch 73/300\n",
      "771/771 [==============================] - 0s 410us/sample - loss: 0.0195 - acc: 0.9935 - val_loss: 1.9442 - val_acc: 0.7510\n",
      "Epoch 74/300\n",
      "771/771 [==============================] - 0s 413us/sample - loss: 0.0194 - acc: 0.9935 - val_loss: 1.9513 - val_acc: 0.7510\n",
      "Epoch 75/300\n",
      "771/771 [==============================] - 0s 391us/sample - loss: 0.0194 - acc: 0.9935 - val_loss: 1.9600 - val_acc: 0.7510\n",
      "Epoch 76/300\n",
      "771/771 [==============================] - 0s 404us/sample - loss: 0.0193 - acc: 0.9935 - val_loss: 1.9696 - val_acc: 0.7510\n",
      "Epoch 77/300\n",
      "771/771 [==============================] - 0s 406us/sample - loss: 0.0193 - acc: 0.9935 - val_loss: 1.9786 - val_acc: 0.7510\n",
      "Epoch 78/300\n",
      "771/771 [==============================] - 0s 392us/sample - loss: 0.0193 - acc: 0.9935 - val_loss: 1.9879 - val_acc: 0.7510\n",
      "Epoch 79/300\n",
      "771/771 [==============================] - 0s 412us/sample - loss: 0.0193 - acc: 0.9935 - val_loss: 1.9969 - val_acc: 0.7510\n",
      "Epoch 80/300\n",
      "771/771 [==============================] - 0s 409us/sample - loss: 0.0193 - acc: 0.9935 - val_loss: 2.0061 - val_acc: 0.7510\n",
      "Epoch 81/300\n",
      "771/771 [==============================] - 0s 390us/sample - loss: 0.0193 - acc: 0.9935 - val_loss: 2.0182 - val_acc: 0.7510\n",
      "Epoch 82/300\n",
      "771/771 [==============================] - 0s 411us/sample - loss: 0.0193 - acc: 0.9935 - val_loss: 2.0355 - val_acc: 0.7510\n",
      "Epoch 83/300\n",
      "771/771 [==============================] - 0s 412us/sample - loss: 0.0193 - acc: 0.9935 - val_loss: 2.0500 - val_acc: 0.7510\n",
      "Epoch 84/300\n",
      "771/771 [==============================] - 0s 406us/sample - loss: 0.0193 - acc: 0.9935 - val_loss: 2.0634 - val_acc: 0.7510\n",
      "Epoch 85/300\n",
      "771/771 [==============================] - 0s 393us/sample - loss: 0.0194 - acc: 0.9935 - val_loss: 2.0754 - val_acc: 0.7510\n",
      "Epoch 86/300\n",
      "771/771 [==============================] - 0s 403us/sample - loss: 0.0193 - acc: 0.9935 - val_loss: 2.0892 - val_acc: 0.7510\n",
      "Epoch 87/300\n",
      "771/771 [==============================] - 0s 395us/sample - loss: 0.0193 - acc: 0.9935 - val_loss: 2.1133 - val_acc: 0.7471\n",
      "Epoch 88/300\n",
      "771/771 [==============================] - 0s 411us/sample - loss: 0.0194 - acc: 0.9935 - val_loss: 2.1319 - val_acc: 0.7471\n",
      "Epoch 89/300\n",
      "771/771 [==============================] - 0s 389us/sample - loss: 0.0203 - acc: 0.9922 - val_loss: 2.1353 - val_acc: 0.7471\n",
      "Epoch 90/300\n",
      "771/771 [==============================] - 0s 390us/sample - loss: 0.0200 - acc: 0.9935 - val_loss: 2.1291 - val_acc: 0.7510\n",
      "Epoch 91/300\n",
      "771/771 [==============================] - 0s 403us/sample - loss: 0.0199 - acc: 0.9935 - val_loss: 2.1249 - val_acc: 0.7510\n",
      "Epoch 92/300\n",
      "771/771 [==============================] - 0s 396us/sample - loss: 0.0197 - acc: 0.9935 - val_loss: 2.1240 - val_acc: 0.7510\n",
      "Epoch 93/300\n",
      "771/771 [==============================] - 0s 388us/sample - loss: 0.0195 - acc: 0.9935 - val_loss: 2.1274 - val_acc: 0.7471\n",
      "Epoch 94/300\n",
      "771/771 [==============================] - 0s 412us/sample - loss: 0.0194 - acc: 0.9935 - val_loss: 2.1329 - val_acc: 0.7471\n",
      "Epoch 95/300\n",
      "771/771 [==============================] - 0s 408us/sample - loss: 0.0191 - acc: 0.9935 - val_loss: 2.1373 - val_acc: 0.7471\n",
      "Epoch 96/300\n",
      "771/771 [==============================] - 0s 410us/sample - loss: 0.0213 - acc: 0.9935 - val_loss: 2.1255 - val_acc: 0.7471\n",
      "Epoch 97/300\n",
      "771/771 [==============================] - 0s 406us/sample - loss: 0.0190 - acc: 0.9935 - val_loss: 2.0707 - val_acc: 0.7549\n",
      "Epoch 98/300\n",
      "771/771 [==============================] - 0s 396us/sample - loss: 0.0192 - acc: 0.9935 - val_loss: 2.0335 - val_acc: 0.7549\n",
      "Epoch 99/300\n",
      "771/771 [==============================] - 0s 425us/sample - loss: 0.0193 - acc: 0.9935 - val_loss: 2.0194 - val_acc: 0.7588\n",
      "Epoch 100/300\n",
      "771/771 [==============================] - 0s 393us/sample - loss: 0.0194 - acc: 0.9935 - val_loss: 2.0182 - val_acc: 0.7588\n",
      "Epoch 101/300\n",
      "771/771 [==============================] - 0s 389us/sample - loss: 0.0193 - acc: 0.9935 - val_loss: 2.0260 - val_acc: 0.7549\n",
      "Epoch 102/300\n",
      "771/771 [==============================] - 0s 421us/sample - loss: 0.0192 - acc: 0.9935 - val_loss: 2.0411 - val_acc: 0.7549\n",
      "Epoch 103/300\n",
      "771/771 [==============================] - 0s 400us/sample - loss: 0.0191 - acc: 0.9935 - val_loss: 2.0627 - val_acc: 0.7549\n",
      "Epoch 104/300\n",
      "771/771 [==============================] - 0s 409us/sample - loss: 0.0194 - acc: 0.9935 - val_loss: 2.0793 - val_acc: 0.7549\n",
      "Epoch 105/300\n",
      "771/771 [==============================] - 0s 403us/sample - loss: 0.0196 - acc: 0.9935 - val_loss: 2.0931 - val_acc: 0.7549\n",
      "Epoch 106/300\n",
      "771/771 [==============================] - 0s 399us/sample - loss: 0.0196 - acc: 0.9935 - val_loss: 2.1030 - val_acc: 0.7549\n",
      "Epoch 107/300\n",
      "771/771 [==============================] - 0s 388us/sample - loss: 0.0196 - acc: 0.9935 - val_loss: 2.1135 - val_acc: 0.7549\n",
      "Epoch 108/300\n",
      "771/771 [==============================] - 0s 412us/sample - loss: 0.0195 - acc: 0.9935 - val_loss: 2.1227 - val_acc: 0.7549\n",
      "Epoch 109/300\n"
     ]
    },
    {
     "name": "stdout",
     "output_type": "stream",
     "text": [
      "771/771 [==============================] - 0s 389us/sample - loss: 0.0195 - acc: 0.9935 - val_loss: 2.1324 - val_acc: 0.7510\n",
      "Epoch 110/300\n",
      "771/771 [==============================] - 0s 412us/sample - loss: 0.0193 - acc: 0.9935 - val_loss: 2.1438 - val_acc: 0.7510\n",
      "Epoch 111/300\n",
      "771/771 [==============================] - 0s 411us/sample - loss: 0.0193 - acc: 0.9935 - val_loss: 2.1574 - val_acc: 0.7510\n",
      "Epoch 112/300\n",
      "771/771 [==============================] - 0s 395us/sample - loss: 0.0193 - acc: 0.9935 - val_loss: 2.1739 - val_acc: 0.7471\n",
      "Epoch 113/300\n",
      "771/771 [==============================] - 0s 397us/sample - loss: 0.0191 - acc: 0.9935 - val_loss: 2.1884 - val_acc: 0.7471\n",
      "Epoch 114/300\n",
      "771/771 [==============================] - 0s 399us/sample - loss: 0.0189 - acc: 0.9935 - val_loss: 2.1968 - val_acc: 0.7471\n",
      "Epoch 115/300\n",
      "771/771 [==============================] - 0s 387us/sample - loss: 0.0197 - acc: 0.9935 - val_loss: 2.1942 - val_acc: 0.7471\n",
      "Epoch 116/300\n",
      "771/771 [==============================] - 0s 390us/sample - loss: 0.0191 - acc: 0.9922 - val_loss: 2.1561 - val_acc: 0.7471\n",
      "Epoch 117/300\n",
      "771/771 [==============================] - 0s 388us/sample - loss: 0.0191 - acc: 0.9935 - val_loss: 2.1310 - val_acc: 0.7510\n",
      "Epoch 118/300\n",
      "771/771 [==============================] - 0s 410us/sample - loss: 0.0192 - acc: 0.9935 - val_loss: 2.1215 - val_acc: 0.7549\n",
      "Epoch 119/300\n",
      "771/771 [==============================] - 0s 387us/sample - loss: 0.0192 - acc: 0.9935 - val_loss: 2.1211 - val_acc: 0.7549\n",
      "Epoch 120/300\n",
      "771/771 [==============================] - 0s 391us/sample - loss: 0.0191 - acc: 0.9935 - val_loss: 2.1289 - val_acc: 0.7549\n",
      "Epoch 121/300\n",
      "771/771 [==============================] - 0s 393us/sample - loss: 0.0191 - acc: 0.9935 - val_loss: 2.1269 - val_acc: 0.7510\n",
      "Epoch 122/300\n",
      "771/771 [==============================] - 0s 387us/sample - loss: 0.0191 - acc: 0.9935 - val_loss: 2.0941 - val_acc: 0.7510\n",
      "Epoch 123/300\n",
      "771/771 [==============================] - 0s 426us/sample - loss: 0.0190 - acc: 0.9935 - val_loss: 2.0752 - val_acc: 0.7510\n",
      "Epoch 124/300\n",
      "771/771 [==============================] - 0s 373us/sample - loss: 0.0191 - acc: 0.9948 - val_loss: 2.0641 - val_acc: 0.7510\n",
      "Epoch 125/300\n",
      "771/771 [==============================] - 0s 413us/sample - loss: 0.0191 - acc: 0.9935 - val_loss: 2.0616 - val_acc: 0.7510\n",
      "Epoch 126/300\n",
      "771/771 [==============================] - 0s 389us/sample - loss: 0.0191 - acc: 0.9935 - val_loss: 2.0631 - val_acc: 0.7510\n",
      "Epoch 127/300\n",
      "771/771 [==============================] - 0s 402us/sample - loss: 0.0190 - acc: 0.9935 - val_loss: 2.0665 - val_acc: 0.7471\n",
      "Epoch 128/300\n",
      "771/771 [==============================] - 0s 395us/sample - loss: 0.0189 - acc: 0.9935 - val_loss: 2.0715 - val_acc: 0.7471\n",
      "Epoch 129/300\n",
      "771/771 [==============================] - 0s 386us/sample - loss: 0.0190 - acc: 0.9935 - val_loss: 2.0739 - val_acc: 0.7471\n",
      "Epoch 130/300\n",
      "771/771 [==============================] - 0s 395us/sample - loss: 0.0192 - acc: 0.9935 - val_loss: 2.0707 - val_acc: 0.7471\n",
      "Epoch 131/300\n",
      "771/771 [==============================] - 0s 389us/sample - loss: 0.0190 - acc: 0.9935 - val_loss: 2.0555 - val_acc: 0.7510\n",
      "Epoch 132/300\n",
      "771/771 [==============================] - 0s 392us/sample - loss: 0.0189 - acc: 0.9935 - val_loss: 2.0493 - val_acc: 0.7510\n",
      "Epoch 133/300\n",
      "771/771 [==============================] - 0s 406us/sample - loss: 0.0189 - acc: 0.9935 - val_loss: 2.0485 - val_acc: 0.7510\n",
      "Epoch 134/300\n",
      "771/771 [==============================] - 0s 393us/sample - loss: 0.0189 - acc: 0.9935 - val_loss: 2.0531 - val_acc: 0.7510\n",
      "Epoch 135/300\n",
      "771/771 [==============================] - 0s 404us/sample - loss: 0.0189 - acc: 0.9935 - val_loss: 2.0592 - val_acc: 0.7471\n",
      "Epoch 136/300\n",
      "771/771 [==============================] - 0s 393us/sample - loss: 0.0189 - acc: 0.9935 - val_loss: 2.0621 - val_acc: 0.7471\n",
      "Epoch 137/300\n",
      "771/771 [==============================] - 0s 384us/sample - loss: 0.0188 - acc: 0.9935 - val_loss: 2.0640 - val_acc: 0.7471\n",
      "Epoch 138/300\n",
      "771/771 [==============================] - 0s 389us/sample - loss: 0.0189 - acc: 0.9935 - val_loss: 2.0634 - val_acc: 0.7471\n",
      "Epoch 139/300\n",
      "771/771 [==============================] - 0s 391us/sample - loss: 0.0187 - acc: 0.9935 - val_loss: 2.0665 - val_acc: 0.7471\n",
      "Epoch 140/300\n",
      "771/771 [==============================] - 0s 391us/sample - loss: 0.0187 - acc: 0.9935 - val_loss: 2.0701 - val_acc: 0.7471\n",
      "Epoch 141/300\n",
      "771/771 [==============================] - 0s 401us/sample - loss: 0.0187 - acc: 0.9935 - val_loss: 2.0750 - val_acc: 0.7471\n",
      "Epoch 142/300\n",
      "771/771 [==============================] - 0s 388us/sample - loss: 0.0187 - acc: 0.9935 - val_loss: 2.0793 - val_acc: 0.7471\n",
      "Epoch 143/300\n",
      "771/771 [==============================] - 0s 389us/sample - loss: 0.0188 - acc: 0.9935 - val_loss: 2.0825 - val_acc: 0.7471\n",
      "Epoch 144/300\n",
      "771/771 [==============================] - 0s 396us/sample - loss: 0.0187 - acc: 0.9935 - val_loss: 2.0865 - val_acc: 0.7471\n",
      "Epoch 145/300\n",
      "771/771 [==============================] - 0s 424us/sample - loss: 0.0187 - acc: 0.9935 - val_loss: 2.0903 - val_acc: 0.7471\n",
      "Epoch 146/300\n",
      "771/771 [==============================] - 0s 373us/sample - loss: 0.0187 - acc: 0.9935 - val_loss: 2.0950 - val_acc: 0.7471\n",
      "Epoch 147/300\n",
      "771/771 [==============================] - 0s 410us/sample - loss: 0.0188 - acc: 0.9935 - val_loss: 2.0998 - val_acc: 0.7471\n",
      "Epoch 148/300\n",
      "771/771 [==============================] - 0s 389us/sample - loss: 0.0189 - acc: 0.9935 - val_loss: 2.0953 - val_acc: 0.7471\n",
      "Epoch 149/300\n",
      "771/771 [==============================] - 0s 389us/sample - loss: 0.0187 - acc: 0.9935 - val_loss: 2.0967 - val_acc: 0.7471\n",
      "Epoch 150/300\n",
      "771/771 [==============================] - 0s 391us/sample - loss: 0.0186 - acc: 0.9935 - val_loss: 2.0979 - val_acc: 0.7471\n",
      "Epoch 151/300\n",
      "771/771 [==============================] - 0s 389us/sample - loss: 0.0186 - acc: 0.9935 - val_loss: 2.1004 - val_acc: 0.7471\n",
      "Epoch 152/300\n",
      "771/771 [==============================] - 0s 413us/sample - loss: 0.0186 - acc: 0.9935 - val_loss: 2.1039 - val_acc: 0.7471\n",
      "Epoch 153/300\n",
      "771/771 [==============================] - 0s 388us/sample - loss: 0.0187 - acc: 0.9935 - val_loss: 2.1083 - val_acc: 0.7471\n",
      "Epoch 154/300\n",
      "771/771 [==============================] - 0s 406us/sample - loss: 0.0186 - acc: 0.9935 - val_loss: 2.1122 - val_acc: 0.7471\n",
      "Epoch 155/300\n",
      "771/771 [==============================] - 0s 395us/sample - loss: 0.0187 - acc: 0.9935 - val_loss: 2.1172 - val_acc: 0.7471\n",
      "Epoch 156/300\n",
      "771/771 [==============================] - 0s 409us/sample - loss: 0.0187 - acc: 0.9935 - val_loss: 2.1213 - val_acc: 0.7471\n",
      "Epoch 157/300\n",
      "771/771 [==============================] - 0s 390us/sample - loss: 0.0186 - acc: 0.9935 - val_loss: 2.1255 - val_acc: 0.7471\n",
      "Epoch 158/300\n",
      "771/771 [==============================] - 0s 409us/sample - loss: 0.0187 - acc: 0.9935 - val_loss: 2.1301 - val_acc: 0.7471\n",
      "Epoch 159/300\n",
      "771/771 [==============================] - 0s 387us/sample - loss: 0.0187 - acc: 0.9935 - val_loss: 2.1349 - val_acc: 0.7471\n",
      "Epoch 160/300\n",
      "771/771 [==============================] - 0s 385us/sample - loss: 0.0187 - acc: 0.9935 - val_loss: 2.1429 - val_acc: 0.7510\n",
      "Epoch 161/300\n",
      "771/771 [==============================] - 0s 390us/sample - loss: 0.0186 - acc: 0.9935 - val_loss: 2.1464 - val_acc: 0.7510\n",
      "Epoch 162/300\n",
      "771/771 [==============================] - 0s 410us/sample - loss: 0.0186 - acc: 0.9935 - val_loss: 2.1503 - val_acc: 0.7510\n",
      "Epoch 163/300\n",
      "771/771 [==============================] - 0s 393us/sample - loss: 0.0185 - acc: 0.9935 - val_loss: 2.1551 - val_acc: 0.7510\n",
      "Epoch 164/300\n",
      "771/771 [==============================] - 0s 403us/sample - loss: 0.0186 - acc: 0.9935 - val_loss: 2.1584 - val_acc: 0.7510\n",
      "Epoch 165/300\n",
      "771/771 [==============================] - 0s 388us/sample - loss: 0.0185 - acc: 0.9935 - val_loss: 2.1635 - val_acc: 0.7510\n",
      "Epoch 166/300\n",
      "771/771 [==============================] - 0s 395us/sample - loss: 0.0185 - acc: 0.9935 - val_loss: 2.1689 - val_acc: 0.7510\n",
      "Epoch 167/300\n",
      "771/771 [==============================] - 0s 389us/sample - loss: 0.0185 - acc: 0.9935 - val_loss: 2.1733 - val_acc: 0.7510\n",
      "Epoch 168/300\n"
     ]
    },
    {
     "name": "stdout",
     "output_type": "stream",
     "text": [
      "771/771 [==============================] - 0s 389us/sample - loss: 0.0185 - acc: 0.9935 - val_loss: 2.1786 - val_acc: 0.7510\n",
      "Epoch 169/300\n",
      "771/771 [==============================] - 0s 391us/sample - loss: 0.0186 - acc: 0.9935 - val_loss: 2.1792 - val_acc: 0.7510\n",
      "Epoch 170/300\n",
      "771/771 [==============================] - 0s 387us/sample - loss: 0.0185 - acc: 0.9935 - val_loss: 2.1832 - val_acc: 0.7510\n",
      "Epoch 171/300\n",
      "771/771 [==============================] - 0s 410us/sample - loss: 0.0185 - acc: 0.9935 - val_loss: 2.1853 - val_acc: 0.7510\n",
      "Epoch 172/300\n",
      "771/771 [==============================] - 0s 411us/sample - loss: 0.0185 - acc: 0.9935 - val_loss: 2.1892 - val_acc: 0.7510\n",
      "Epoch 173/300\n",
      "771/771 [==============================] - 0s 390us/sample - loss: 0.0185 - acc: 0.9935 - val_loss: 2.1908 - val_acc: 0.7510\n",
      "Epoch 174/300\n",
      "771/771 [==============================] - 0s 408us/sample - loss: 0.0185 - acc: 0.9935 - val_loss: 2.1935 - val_acc: 0.7510\n",
      "Epoch 175/300\n",
      "771/771 [==============================] - 0s 391us/sample - loss: 0.0185 - acc: 0.9935 - val_loss: 2.1967 - val_acc: 0.7510\n",
      "Epoch 176/300\n",
      "771/771 [==============================] - 0s 389us/sample - loss: 0.0185 - acc: 0.9935 - val_loss: 2.2001 - val_acc: 0.7510\n",
      "Epoch 177/300\n",
      "771/771 [==============================] - 0s 406us/sample - loss: 0.0185 - acc: 0.9935 - val_loss: 2.2018 - val_acc: 0.7510\n",
      "Epoch 178/300\n",
      "771/771 [==============================] - 0s 395us/sample - loss: 0.0185 - acc: 0.9935 - val_loss: 2.2049 - val_acc: 0.7510\n",
      "Epoch 179/300\n",
      "771/771 [==============================] - 0s 404us/sample - loss: 0.0185 - acc: 0.9935 - val_loss: 2.2103 - val_acc: 0.7510\n",
      "Epoch 180/300\n",
      "771/771 [==============================] - 0s 390us/sample - loss: 0.0185 - acc: 0.9935 - val_loss: 2.2143 - val_acc: 0.7510\n",
      "Epoch 181/300\n",
      "771/771 [==============================] - 0s 393us/sample - loss: 0.0185 - acc: 0.9935 - val_loss: 2.2193 - val_acc: 0.7510\n",
      "Epoch 182/300\n",
      "771/771 [==============================] - 0s 414us/sample - loss: 0.0185 - acc: 0.9935 - val_loss: 2.2228 - val_acc: 0.7510\n",
      "Epoch 183/300\n",
      "771/771 [==============================] - 0s 388us/sample - loss: 0.0185 - acc: 0.9935 - val_loss: 2.2266 - val_acc: 0.7510\n",
      "Epoch 184/300\n",
      "771/771 [==============================] - 0s 393us/sample - loss: 0.0185 - acc: 0.9935 - val_loss: 2.2301 - val_acc: 0.7510\n",
      "Epoch 185/300\n",
      "771/771 [==============================] - 0s 389us/sample - loss: 0.0185 - acc: 0.9935 - val_loss: 2.2329 - val_acc: 0.7510\n",
      "Epoch 186/300\n",
      "771/771 [==============================] - 0s 401us/sample - loss: 0.0185 - acc: 0.9935 - val_loss: 2.2346 - val_acc: 0.7510\n",
      "Epoch 187/300\n",
      "771/771 [==============================] - 0s 392us/sample - loss: 0.0185 - acc: 0.9935 - val_loss: 2.2354 - val_acc: 0.7510\n",
      "Epoch 188/300\n",
      "771/771 [==============================] - 0s 388us/sample - loss: 0.0185 - acc: 0.9935 - val_loss: 2.2360 - val_acc: 0.7510\n",
      "Epoch 189/300\n",
      "771/771 [==============================] - 0s 390us/sample - loss: 0.0185 - acc: 0.9935 - val_loss: 2.2374 - val_acc: 0.7510\n",
      "Epoch 190/300\n",
      "771/771 [==============================] - 0s 389us/sample - loss: 0.0185 - acc: 0.9935 - val_loss: 2.2388 - val_acc: 0.7510\n",
      "Epoch 191/300\n",
      "771/771 [==============================] - 0s 412us/sample - loss: 0.0185 - acc: 0.9935 - val_loss: 2.2409 - val_acc: 0.7510\n",
      "Epoch 192/300\n",
      "771/771 [==============================] - 0s 407us/sample - loss: 0.0185 - acc: 0.9935 - val_loss: 2.2427 - val_acc: 0.7510\n",
      "Epoch 193/300\n",
      "771/771 [==============================] - 0s 387us/sample - loss: 0.0185 - acc: 0.9935 - val_loss: 2.2446 - val_acc: 0.7510\n",
      "Epoch 194/300\n",
      "771/771 [==============================] - 0s 392us/sample - loss: 0.0185 - acc: 0.9935 - val_loss: 2.2459 - val_acc: 0.7510\n",
      "Epoch 195/300\n",
      "771/771 [==============================] - 0s 390us/sample - loss: 0.0185 - acc: 0.9935 - val_loss: 2.2474 - val_acc: 0.7510\n",
      "Epoch 196/300\n",
      "771/771 [==============================] - 0s 403us/sample - loss: 0.0185 - acc: 0.9935 - val_loss: 2.2493 - val_acc: 0.7510\n",
      "Epoch 197/300\n",
      "771/771 [==============================] - 0s 375us/sample - loss: 0.0185 - acc: 0.9935 - val_loss: 2.2513 - val_acc: 0.7510\n",
      "Epoch 198/300\n",
      "771/771 [==============================] - 0s 403us/sample - loss: 0.0185 - acc: 0.9935 - val_loss: 2.2526 - val_acc: 0.7510\n",
      "Epoch 199/300\n",
      "771/771 [==============================] - 0s 391us/sample - loss: 0.0185 - acc: 0.9935 - val_loss: 2.2541 - val_acc: 0.7510\n",
      "Epoch 200/300\n",
      "771/771 [==============================] - 0s 410us/sample - loss: 0.0185 - acc: 0.9935 - val_loss: 2.2555 - val_acc: 0.7510\n",
      "Epoch 201/300\n",
      "771/771 [==============================] - 0s 393us/sample - loss: 0.0185 - acc: 0.9935 - val_loss: 2.2559 - val_acc: 0.7510\n",
      "Epoch 202/300\n",
      "771/771 [==============================] - 0s 424us/sample - loss: 0.0185 - acc: 0.9935 - val_loss: 2.2571 - val_acc: 0.7510\n",
      "Epoch 203/300\n",
      "771/771 [==============================] - 0s 397us/sample - loss: 0.0185 - acc: 0.9935 - val_loss: 2.2576 - val_acc: 0.7510\n",
      "Epoch 204/300\n",
      "771/771 [==============================] - 0s 402us/sample - loss: 0.0185 - acc: 0.9935 - val_loss: 2.2580 - val_acc: 0.7510\n",
      "Epoch 205/300\n",
      "771/771 [==============================] - 0s 394us/sample - loss: 0.0185 - acc: 0.9935 - val_loss: 2.2582 - val_acc: 0.7510\n",
      "Epoch 206/300\n",
      "771/771 [==============================] - 0s 401us/sample - loss: 0.0185 - acc: 0.9935 - val_loss: 2.2552 - val_acc: 0.7471\n",
      "Epoch 207/300\n",
      "771/771 [==============================] - 0s 395us/sample - loss: 0.0347 - acc: 0.9896 - val_loss: 2.5606 - val_acc: 0.7588\n",
      "Epoch 208/300\n",
      "771/771 [==============================] - 0s 394us/sample - loss: 0.1535 - acc: 0.9831 - val_loss: 1.8280 - val_acc: 0.7471\n",
      "Epoch 209/300\n",
      "771/771 [==============================] - 0s 405us/sample - loss: 0.0466 - acc: 0.9883 - val_loss: 1.6562 - val_acc: 0.7471\n",
      "Epoch 210/300\n",
      "771/771 [==============================] - 0s 394us/sample - loss: 0.0408 - acc: 0.9883 - val_loss: 1.4558 - val_acc: 0.7471\n",
      "Epoch 211/300\n",
      "771/771 [==============================] - 0s 389us/sample - loss: 0.0347 - acc: 0.9896 - val_loss: 1.4057 - val_acc: 0.7471\n",
      "Epoch 212/300\n",
      "771/771 [==============================] - 0s 410us/sample - loss: 0.0267 - acc: 0.9922 - val_loss: 1.5165 - val_acc: 0.7471\n",
      "Epoch 213/300\n",
      "771/771 [==============================] - 0s 389us/sample - loss: 0.0339 - acc: 0.9909 - val_loss: 1.3179 - val_acc: 0.7510\n",
      "Epoch 214/300\n",
      "771/771 [==============================] - 0s 405us/sample - loss: 0.0571 - acc: 0.9922 - val_loss: 1.3854 - val_acc: 0.7510\n",
      "Epoch 215/300\n",
      "771/771 [==============================] - 0s 395us/sample - loss: 0.0871 - acc: 0.9883 - val_loss: 1.4105 - val_acc: 0.7471\n",
      "Epoch 216/300\n",
      "771/771 [==============================] - 0s 410us/sample - loss: 0.0698 - acc: 0.9896 - val_loss: 1.2692 - val_acc: 0.7432\n",
      "Epoch 217/300\n",
      "771/771 [==============================] - 0s 388us/sample - loss: 0.0592 - acc: 0.9896 - val_loss: 1.2773 - val_acc: 0.7549\n",
      "Epoch 218/300\n",
      "771/771 [==============================] - 0s 392us/sample - loss: 0.0569 - acc: 0.9896 - val_loss: 1.2768 - val_acc: 0.7588\n",
      "Epoch 219/300\n",
      "771/771 [==============================] - 0s 389us/sample - loss: 0.0424 - acc: 0.9922 - val_loss: 1.4295 - val_acc: 0.7549\n",
      "Epoch 220/300\n",
      "771/771 [==============================] - 0s 397us/sample - loss: 0.0387 - acc: 0.9922 - val_loss: 1.7129 - val_acc: 0.7393\n",
      "Epoch 221/300\n",
      "771/771 [==============================] - 0s 401us/sample - loss: 0.0720 - acc: 0.9883 - val_loss: 1.5811 - val_acc: 0.7471\n",
      "Epoch 222/300\n",
      "771/771 [==============================] - 0s 410us/sample - loss: 0.0538 - acc: 0.9883 - val_loss: 1.4391 - val_acc: 0.7510\n",
      "Epoch 223/300\n",
      "771/771 [==============================] - 0s 389us/sample - loss: 0.0572 - acc: 0.9870 - val_loss: 1.5123 - val_acc: 0.7471\n",
      "Epoch 224/300\n",
      "771/771 [==============================] - 0s 402us/sample - loss: 0.0411 - acc: 0.9909 - val_loss: 1.5466 - val_acc: 0.7510\n",
      "Epoch 225/300\n",
      "771/771 [==============================] - 0s 390us/sample - loss: 0.0511 - acc: 0.9909 - val_loss: 1.7546 - val_acc: 0.7588\n",
      "Epoch 226/300\n",
      "771/771 [==============================] - 0s 397us/sample - loss: 0.0631 - acc: 0.9857 - val_loss: 1.6425 - val_acc: 0.7588\n",
      "Epoch 227/300\n"
     ]
    },
    {
     "name": "stdout",
     "output_type": "stream",
     "text": [
      "771/771 [==============================] - 0s 390us/sample - loss: 0.0384 - acc: 0.9896 - val_loss: 1.5004 - val_acc: 0.7432\n",
      "Epoch 228/300\n",
      "771/771 [==============================] - 0s 403us/sample - loss: 0.0312 - acc: 0.9922 - val_loss: 1.5194 - val_acc: 0.7315\n",
      "Epoch 229/300\n",
      "771/771 [==============================] - 0s 395us/sample - loss: 0.0364 - acc: 0.9896 - val_loss: 1.6092 - val_acc: 0.7160\n",
      "Epoch 230/300\n",
      "771/771 [==============================] - 0s 390us/sample - loss: 0.0271 - acc: 0.9935 - val_loss: 1.7000 - val_acc: 0.7082\n",
      "Epoch 231/300\n",
      "771/771 [==============================] - 0s 414us/sample - loss: 0.0266 - acc: 0.9935 - val_loss: 1.7759 - val_acc: 0.7393\n",
      "Epoch 232/300\n",
      "771/771 [==============================] - 0s 407us/sample - loss: 0.0258 - acc: 0.9935 - val_loss: 1.9048 - val_acc: 0.7471\n",
      "Epoch 233/300\n",
      "771/771 [==============================] - 0s 394us/sample - loss: 0.0258 - acc: 0.9935 - val_loss: 1.9439 - val_acc: 0.7510\n",
      "Epoch 234/300\n",
      "771/771 [==============================] - 0s 406us/sample - loss: 0.0257 - acc: 0.9935 - val_loss: 1.9738 - val_acc: 0.7549\n",
      "Epoch 235/300\n",
      "771/771 [==============================] - 0s 390us/sample - loss: 0.0261 - acc: 0.9935 - val_loss: 1.5758 - val_acc: 0.7393\n",
      "Epoch 236/300\n",
      "771/771 [==============================] - 0s 389us/sample - loss: 0.0263 - acc: 0.9935 - val_loss: 1.5047 - val_acc: 0.6693\n",
      "Epoch 237/300\n",
      "771/771 [==============================] - 0s 389us/sample - loss: 0.0503 - acc: 0.9883 - val_loss: 1.1181 - val_acc: 0.7315\n",
      "Epoch 238/300\n",
      "771/771 [==============================] - 0s 389us/sample - loss: 0.0456 - acc: 0.9883 - val_loss: 1.3758 - val_acc: 0.7393\n",
      "Epoch 239/300\n",
      "771/771 [==============================] - 0s 386us/sample - loss: 0.1298 - acc: 0.9507 - val_loss: 1.2785 - val_acc: 0.7315\n",
      "Epoch 240/300\n",
      "771/771 [==============================] - 0s 393us/sample - loss: 0.0781 - acc: 0.9883 - val_loss: 1.5517 - val_acc: 0.6109\n",
      "Epoch 241/300\n",
      "771/771 [==============================] - 0s 388us/sample - loss: 0.1068 - acc: 0.9728 - val_loss: 1.0066 - val_acc: 0.6459\n",
      "Epoch 242/300\n",
      "771/771 [==============================] - 0s 407us/sample - loss: 0.0638 - acc: 0.9870 - val_loss: 0.9376 - val_acc: 0.7549\n",
      "Epoch 243/300\n",
      "771/771 [==============================] - 0s 395us/sample - loss: 0.0562 - acc: 0.9909 - val_loss: 1.0784 - val_acc: 0.7626\n",
      "Epoch 244/300\n",
      "771/771 [==============================] - 0s 388us/sample - loss: 0.0548 - acc: 0.9883 - val_loss: 1.1851 - val_acc: 0.7588\n",
      "Epoch 245/300\n",
      "771/771 [==============================] - 0s 410us/sample - loss: 0.0490 - acc: 0.9870 - val_loss: 1.1894 - val_acc: 0.7588\n",
      "Epoch 246/300\n",
      "771/771 [==============================] - 0s 390us/sample - loss: 0.0448 - acc: 0.9922 - val_loss: 1.1681 - val_acc: 0.7549\n",
      "Epoch 247/300\n",
      "771/771 [==============================] - 0s 389us/sample - loss: 0.0433 - acc: 0.9909 - val_loss: 1.1464 - val_acc: 0.7549\n",
      "Epoch 248/300\n",
      "771/771 [==============================] - 0s 412us/sample - loss: 0.0405 - acc: 0.9922 - val_loss: 1.1739 - val_acc: 0.7510\n",
      "Epoch 249/300\n",
      "771/771 [==============================] - 0s 410us/sample - loss: 0.0379 - acc: 0.9922 - val_loss: 1.2561 - val_acc: 0.7510\n",
      "Epoch 250/300\n",
      "771/771 [==============================] - 0s 389us/sample - loss: 0.0461 - acc: 0.9922 - val_loss: 1.2702 - val_acc: 0.7510\n",
      "Epoch 251/300\n",
      "771/771 [==============================] - 0s 410us/sample - loss: 0.0438 - acc: 0.9922 - val_loss: 1.2384 - val_acc: 0.7549\n",
      "Epoch 252/300\n",
      "771/771 [==============================] - 0s 393us/sample - loss: 0.0415 - acc: 0.9922 - val_loss: 1.3190 - val_acc: 0.7588\n",
      "Epoch 253/300\n",
      "771/771 [==============================] - 0s 383us/sample - loss: 0.0434 - acc: 0.9922 - val_loss: 1.3088 - val_acc: 0.7588\n",
      "Epoch 254/300\n",
      "771/771 [==============================] - 0s 390us/sample - loss: 0.0467 - acc: 0.9935 - val_loss: 1.2730 - val_acc: 0.7549\n",
      "Epoch 255/300\n",
      "771/771 [==============================] - 0s 390us/sample - loss: 0.0407 - acc: 0.9935 - val_loss: 1.3761 - val_acc: 0.7510\n",
      "Epoch 256/300\n",
      "771/771 [==============================] - 0s 410us/sample - loss: 0.0455 - acc: 0.9935 - val_loss: 1.4070 - val_acc: 0.7510\n",
      "Epoch 257/300\n",
      "771/771 [==============================] - 0s 395us/sample - loss: 0.0430 - acc: 0.9935 - val_loss: 1.4048 - val_acc: 0.7510\n",
      "Epoch 258/300\n",
      "771/771 [==============================] - 0s 412us/sample - loss: 0.0424 - acc: 0.9935 - val_loss: 1.4060 - val_acc: 0.7549\n",
      "Epoch 259/300\n",
      "771/771 [==============================] - 0s 384us/sample - loss: 0.0418 - acc: 0.9935 - val_loss: 1.4097 - val_acc: 0.7510\n",
      "Epoch 260/300\n",
      "771/771 [==============================] - 0s 412us/sample - loss: 0.0406 - acc: 0.9935 - val_loss: 1.4003 - val_acc: 0.7549\n",
      "Epoch 261/300\n",
      "771/771 [==============================] - 0s 407us/sample - loss: 0.0394 - acc: 0.9935 - val_loss: 1.4126 - val_acc: 0.7549\n",
      "Epoch 262/300\n",
      "771/771 [==============================] - 0s 392us/sample - loss: 0.0384 - acc: 0.9935 - val_loss: 1.4438 - val_acc: 0.7549\n",
      "Epoch 263/300\n",
      "771/771 [==============================] - 0s 408us/sample - loss: 0.0378 - acc: 0.9935 - val_loss: 1.4672 - val_acc: 0.7549\n",
      "Epoch 264/300\n",
      "771/771 [==============================] - 0s 391us/sample - loss: 0.0375 - acc: 0.9935 - val_loss: 1.4881 - val_acc: 0.7549\n",
      "Epoch 265/300\n",
      "771/771 [==============================] - 0s 408us/sample - loss: 0.0391 - acc: 0.9935 - val_loss: 1.5071 - val_acc: 0.7549\n",
      "Epoch 266/300\n",
      "771/771 [==============================] - 0s 393us/sample - loss: 0.0377 - acc: 0.9948 - val_loss: 1.4566 - val_acc: 0.7549\n",
      "Epoch 267/300\n",
      "771/771 [==============================] - 0s 405us/sample - loss: 0.0364 - acc: 0.9948 - val_loss: 1.4585 - val_acc: 0.7549\n",
      "Epoch 268/300\n",
      "771/771 [==============================] - 0s 393us/sample - loss: 0.0361 - acc: 0.9948 - val_loss: 1.4668 - val_acc: 0.7549\n",
      "Epoch 269/300\n",
      "771/771 [==============================] - 0s 406us/sample - loss: 0.0357 - acc: 0.9948 - val_loss: 1.4594 - val_acc: 0.7549\n",
      "Epoch 270/300\n",
      "771/771 [==============================] - 0s 408us/sample - loss: 0.0355 - acc: 0.9948 - val_loss: 1.4850 - val_acc: 0.7549\n",
      "Epoch 271/300\n",
      "771/771 [==============================] - 0s 393us/sample - loss: 0.0350 - acc: 0.9948 - val_loss: 1.4817 - val_acc: 0.7549\n",
      "Epoch 272/300\n",
      "771/771 [==============================] - 0s 405us/sample - loss: 0.0345 - acc: 0.9948 - val_loss: 1.4815 - val_acc: 0.7549\n",
      "Epoch 273/300\n",
      "771/771 [==============================] - 0s 398us/sample - loss: 0.0340 - acc: 0.9948 - val_loss: 1.4710 - val_acc: 0.7549\n",
      "Epoch 274/300\n",
      "771/771 [==============================] - 0s 388us/sample - loss: 0.0352 - acc: 0.9948 - val_loss: 1.5070 - val_acc: 0.7549\n",
      "Epoch 275/300\n",
      "771/771 [==============================] - 0s 407us/sample - loss: 0.0352 - acc: 0.9948 - val_loss: 1.5430 - val_acc: 0.7549\n",
      "Epoch 276/300\n",
      "771/771 [==============================] - 0s 393us/sample - loss: 0.0347 - acc: 0.9948 - val_loss: 1.5139 - val_acc: 0.7549\n",
      "Epoch 277/300\n",
      "771/771 [==============================] - 0s 390us/sample - loss: 0.0334 - acc: 0.9948 - val_loss: 1.5013 - val_acc: 0.7549\n",
      "Epoch 278/300\n",
      "771/771 [==============================] - 0s 390us/sample - loss: 0.0327 - acc: 0.9948 - val_loss: 1.4832 - val_acc: 0.7549\n",
      "Epoch 279/300\n",
      "771/771 [==============================] - 0s 411us/sample - loss: 0.0327 - acc: 0.9948 - val_loss: 1.4829 - val_acc: 0.7549\n",
      "Epoch 280/300\n",
      "771/771 [==============================] - 0s 388us/sample - loss: 0.0314 - acc: 0.9948 - val_loss: 1.5030 - val_acc: 0.7549\n",
      "Epoch 281/300\n",
      "771/771 [==============================] - 0s 389us/sample - loss: 0.0319 - acc: 0.9948 - val_loss: 1.5154 - val_acc: 0.7549\n",
      "Epoch 282/300\n",
      "771/771 [==============================] - 0s 405us/sample - loss: 0.0320 - acc: 0.9948 - val_loss: 1.5180 - val_acc: 0.7549\n",
      "Epoch 283/300\n",
      "771/771 [==============================] - 0s 412us/sample - loss: 0.0320 - acc: 0.9948 - val_loss: 1.5222 - val_acc: 0.7471\n",
      "Epoch 284/300\n",
      "771/771 [==============================] - 0s 396us/sample - loss: 0.0315 - acc: 0.9948 - val_loss: 1.5005 - val_acc: 0.7432\n",
      "Epoch 285/300\n",
      "771/771 [==============================] - 0s 388us/sample - loss: 0.0315 - acc: 0.9948 - val_loss: 1.5325 - val_acc: 0.7510\n",
      "Epoch 286/300\n"
     ]
    },
    {
     "name": "stdout",
     "output_type": "stream",
     "text": [
      "771/771 [==============================] - 0s 412us/sample - loss: 0.0333 - acc: 0.9935 - val_loss: 1.6009 - val_acc: 0.7588\n",
      "Epoch 287/300\n",
      "771/771 [==============================] - 0s 390us/sample - loss: 0.0331 - acc: 0.9948 - val_loss: 1.5866 - val_acc: 0.7588\n",
      "Epoch 288/300\n",
      "771/771 [==============================] - 0s 402us/sample - loss: 0.0318 - acc: 0.9948 - val_loss: 1.5634 - val_acc: 0.7549\n",
      "Epoch 289/300\n",
      "771/771 [==============================] - 0s 404us/sample - loss: 0.0313 - acc: 0.9948 - val_loss: 1.5691 - val_acc: 0.7549\n",
      "Epoch 290/300\n",
      "771/771 [==============================] - 0s 419us/sample - loss: 0.0313 - acc: 0.9948 - val_loss: 1.5726 - val_acc: 0.7432\n",
      "Epoch 291/300\n",
      "771/771 [==============================] - 0s 393us/sample - loss: 0.0311 - acc: 0.9948 - val_loss: 1.5788 - val_acc: 0.7393\n",
      "Epoch 292/300\n",
      "771/771 [==============================] - 0s 390us/sample - loss: 0.0312 - acc: 0.9948 - val_loss: 1.5915 - val_acc: 0.7432\n",
      "Epoch 293/300\n",
      "771/771 [==============================] - 0s 390us/sample - loss: 0.0313 - acc: 0.9948 - val_loss: 1.6160 - val_acc: 0.7471\n",
      "Epoch 294/300\n",
      "771/771 [==============================] - 0s 411us/sample - loss: 0.0312 - acc: 0.9948 - val_loss: 1.6215 - val_acc: 0.7471\n",
      "Epoch 295/300\n",
      "771/771 [==============================] - 0s 390us/sample - loss: 0.0312 - acc: 0.9948 - val_loss: 1.6493 - val_acc: 0.7549\n",
      "Epoch 296/300\n",
      "771/771 [==============================] - 0s 387us/sample - loss: 0.0313 - acc: 0.9948 - val_loss: 1.6672 - val_acc: 0.7549\n",
      "Epoch 297/300\n",
      "771/771 [==============================] - 0s 407us/sample - loss: 0.0314 - acc: 0.9948 - val_loss: 1.6735 - val_acc: 0.7549\n",
      "Epoch 298/300\n",
      "771/771 [==============================] - 0s 412us/sample - loss: 0.0312 - acc: 0.9948 - val_loss: 1.6884 - val_acc: 0.7549\n",
      "Epoch 299/300\n",
      "771/771 [==============================] - 0s 391us/sample - loss: 0.0313 - acc: 0.9948 - val_loss: 1.7172 - val_acc: 0.7549\n",
      "Epoch 300/300\n",
      "771/771 [==============================] - 0s 411us/sample - loss: 0.0319 - acc: 0.9948 - val_loss: 1.7320 - val_acc: 0.7549\n",
      "INFO:tensorflow:Assets written to: resumes_model\\assets\n"
     ]
    }
   ],
   "source": [
    "X = df['chunck']\n",
    "Y = df['skill']\n",
    "vocab_size = 1085\n",
    "len_sentence = 10\n",
    "len_embedding=35\n",
    "X, tokenizer_, word_index = token_and_sequence(X, 'post', max_num_words=vocab_size, max_len_padded=len_sentence)\n",
    "\n",
    "\n",
    "model = tf.keras.Sequential([\n",
    "    tf.keras.layers.Embedding(vocab_size, len_embedding, input_length=X.shape[1]),\n",
    "    tf.keras.layers.Conv1D(5,5,activation='relu'),\n",
    "    #tf.keras.layers.GlobalMaxPooling1D(),\n",
    "    tf.keras.layers.Dense(128, activation='relu'),\n",
    "    tf.keras.layers.Bidirectional(tf.keras.layers.LSTM(64, return_sequences=True)),\n",
    "    tf.keras.layers.LSTM(32),\n",
    "    tf.keras.layers.Dense(1, activation='sigmoid')])\n",
    "print(model.summary())\n",
    "\n",
    "opt = tf.keras.optimizers.Adam(learning_rate=0.01)\n",
    "model.compile(optimizer=opt, loss='binary_crossentropy', metrics=['acc'])\n",
    "history = model.fit(X, Y, batch_size=256, epochs=300,validation_split=0.25,shuffle=True,class_weight=class_weights)\n",
    "\n",
    "y_acc = history.history['acc']\n",
    "y_val = history.history['val_acc']\n",
    "y_val_loss=history.history['val_loss']\n",
    "y_loss=history.history['loss']\n",
    "\n",
    "\n",
    "model.save('resumes_model')\n",
    "\n"
   ]
  },
  {
   "cell_type": "markdown",
   "metadata": {},
   "source": [
    "##### At the end of the training the following graphs of the learning and validation curves appear"
   ]
  },
  {
   "cell_type": "code",
   "execution_count": 28,
   "metadata": {},
   "outputs": [
    {
     "data": {
      "image/png": "[encoded data removed]",
      "text/plain": [
       "<Figure size 432x288 with 1 Axes>"
      ]
     },
     "metadata": {
      "needs_background": "light"
     },
     "output_type": "display_data"
    }
   ],
   "source": [
    "plt.plot(y_acc, 'r',label=\"Training\")\n",
    "plt.plot(y_val, 'b',label='Validation')\n",
    "plt.legend(loc=\"lower right\")\n",
    "plt.xlabel('Epochs')\n",
    "plt.ylabel('Accuracy')\n",
    "plt.show()"
   ]
  },
  {
   "cell_type": "markdown",
   "metadata": {},
   "source": [
    "##### As we can see from the curves, the model tends to overfit very quickly due to the low amount of data available for training, increasing the dataset the problem should be reduced, the accuracy on validation set up to this point stands at around 75%."
   ]
  },
  {
   "cell_type": "markdown",
   "metadata": {},
   "source": [
    "##### Once the model has been trained and saved, we can proceed with the definition of the \"extract_skills\" function aimed at extracting the skills from the generic text: the function takes as argument the string containing the text, and the threshold of certainty with which the model must predict the skills, and output the list of skills with the relative certainty values. The more the certainty value approaches 1, the more the model is sure of having predicted a skill, vice versa for values closer to zero."
   ]
  },
  {
   "cell_type": "code",
   "execution_count": 29,
   "metadata": {},
   "outputs": [],
   "source": [
    "import tensorflow as tf\n",
    "import re\n",
    "import fitz\n",
    "import spacy\n",
    "from tensorflow.keras.preprocessing.sequence import pad_sequences\n",
    "import pickle\n",
    "from nltk.corpus import stopwords\n",
    "\n",
    "\n",
    "def get_text(filename):\n",
    "    text = \"\"\n",
    "    for i in range(len(filename)):\n",
    "        doc = fitz.open(filename[i])\n",
    "        for page in doc:\n",
    "            text = text + str(page.getText())\n",
    "    text = ' '.join(text.split('\\n'))\n",
    "    return text\n",
    "\n",
    "\n",
    "def extract_skills(text,threshold_certezza):\n",
    "    \n",
    "    #Carico modello e dizionario dei termini \n",
    "    model = tf.keras.models.load_model('resumes_model')\n",
    "    with open('tokenizer.pickle', 'rb') as handle:\n",
    "        tokenizer_ = pickle.load(handle)\n",
    "\n",
    "    nlp = spacy.load(\"en_core_web_sm\")\n",
    "    doc_nlp = nlp(text)\n",
    "    txt_chunks = []\n",
    "    for chunk in doc_nlp.noun_chunks:\n",
    "        text_chunk= chunk.text.strip(punteggiatura).lower()\n",
    "        txt_chunks.append(text_chunk)\n",
    "        #print(text_chunk)\n",
    "\n",
    "    txt_chunks = list(set(txt_chunks))\n",
    "    txt_chunks = filter_stop_words(txt_chunks)\n",
    "    encode_test = tokenizer_.texts_to_sequences(txt_chunks)\n",
    "\n",
    "    len_sentence = 10\n",
    "    x = pad_sequences(sequences=encode_test, padding='post', maxlen=len_sentence)\n",
    "    #print(x)\n",
    "    y_pred = model.predict(x)\n",
    "   \n",
    "    l_skills=[]\n",
    "    print('\\n\\nExtracted Skills list:\\n\\n')\n",
    "    for i in range(len(y_pred)):\n",
    "        if y_pred[i] >= threshold_certezza:\n",
    "            l_skills.append([txt_chunks[i], y_pred[i].item()])\n",
    "    \n",
    "    return l_skills\n"
   ]
  },
  {
   "cell_type": "markdown",
   "metadata": {},
   "source": [
    "##### Now we can test the model on the following example of a programmer's CV found on the web:"
   ]
  },
  {
   "cell_type": "code",
   "execution_count": 30,
   "metadata": {},
   "outputs": [
    {
     "data": {
      "text/plain": [
       "'  Experienced and talented programmer who enjoys solving problems and is highly passionate about web application  development and software design. Focused and knowledgeable, with strong attention to details and ability to  concentrate. Excellent critical thinking and analytical skills, with track record of being able to collaborate with others.  Proven experience in creating and developing web applications, software, and solutions, and knowledgeable in several  programming languages. Familiar with translating software designs and specifications into high-functioning code and  incorporating software solutions into higher level systems. Able to test, debug, upgrade, and improve products and  solutions for superior user experience for customers and meet business requirements as well as enhanced security  and efficiency.    Work Experience    Senior Programmer – Core Solutions    2014 – Present    * Incorporate business and user requirements into durable and scalable solutions.    * Develop code, system design, and test plans for all solutions and roll them out on both national and international levels.    * Support and maintain applications for web and mobile systems while ensuring solutions are secure, user-friendly,  and cost-effective.    * Reengineer systems to improve efficiency, productivity, and accuracy for business operations.    * Train and mentor junior programmers on best practices and programming methodologies.    Lead Programmer – XYZ Group    2011 – 2014    * Programmed product enhancements and provided maintenance and support for client applications and interfaces.    * Conducted complex analysis and sophisticated programming to fulfill project requirements.    * Replaced lengthy, faulty manual processes with automated, elegant solutions.    * Coded new solutions that increased scalability by 70 percent and availability by 40 percent.    Programmer – OneCo    2009 – 2011    * Programmed web-based applications.    * Analyzed code for system testing and debugging.    * Reviewed project requirements, including objectives, input data, and output requirements.    * Conducted tests and modified program code as needed.    * Contributed to team development efforts.    Education and Training    Bachelor of Science in Information Technology – 2009    ABC University, San Jose, California    Skills    * Programming knowledge in Java, C++, XML, and Python    * Experience in developing web applications using a framework and knowledge in relational databases, such as SQL    * Excellent critical thinking and analytical skills    * Ability to collaborate with developers and business analysts to produce software designs    * Strong attention to details and ability to concentrate    Hobbies and Interests    I participate in local hackathons and am a member of several gaming clubs. When not in front of a computer, I  enjoy experimenting with molecular gastronomy to create innovations in food preparation and presentation. I am a  fan of astronomy and often take advantage of night sky shows at local planetariums. I am also an accomplished  musician, playing piano, guitar, and drums.  '"
      ]
     },
     "execution_count": 30,
     "metadata": {},
     "output_type": "execute_result"
    }
   ],
   "source": [
    "filename = ['./cvs/programmer.pdf']\n",
    "text = get_text(filename)\n",
    "text"
   ]
  },
  {
   "cell_type": "markdown",
   "metadata": {},
   "source": [
    "##### The model is tested with a threshold equal to 0.9"
   ]
  },
  {
   "cell_type": "code",
   "execution_count": 31,
   "metadata": {},
   "outputs": [
    {
     "name": "stdout",
     "output_type": "stream",
     "text": [
      "\n",
      "\n",
      "Extracted Skills list:\n",
      "\n",
      "\n"
     ]
    },
    {
     "data": {
      "text/plain": [
       "[['knowledge', 0.9999785423278809],\n",
       " ['c++', 0.9999810457229614],\n",
       " ['california skills', 0.9999634027481079],\n",
       " ['software designs', 0.9999805688858032],\n",
       " ['ability', 0.9999806880950928],\n",
       " ['education', 0.9999806880950928],\n",
       " ['analytical skills', 0.9999798536300659],\n",
       " ['support', 0.9999805688858032],\n",
       " ['support', 0.9999805688858032],\n",
       " ['computer', 0.9999804496765137],\n",
       " ['track record', 0.9999804496765137],\n",
       " ['project requirements', 0.9666261672973633],\n",
       " ['java', 0.9999808073043823],\n",
       " ['bachelor', 0.9999804496765137],\n",
       " ['conducted complex analysis', 0.9999831914901733],\n",
       " ['ability', 0.9999806880950928],\n",
       " ['python', 0.9999798536300659],\n",
       " ['abc university', 0.9915769100189209],\n",
       " ['programming knowledge', 0.9999479055404663],\n",
       " ['software', 0.9999805688858032],\n",
       " ['strong attention', 0.9999783039093018],\n",
       " ['programmed web-based applications', 0.9999724626541138],\n",
       " ['excellent critical thinking', 0.9999805688858032],\n",
       " ['excellent critical thinking', 0.9999805688858032]]"
      ]
     },
     "execution_count": 31,
     "metadata": {},
     "output_type": "execute_result"
    }
   ],
   "source": [
    "extracted_skills=extract_skills(text,0.9)\n",
    "extracted_skills"
   ]
  },
  {
   "cell_type": "markdown",
   "metadata": {},
   "source": [
    "##### As we can see, despite using a very simple model, it is possible to extract a good number of skills despite the fact that the result is affected by noise. <br/> It is obvious that the result is strongly linked to how the skills have been defined in the training dataset, the terms of the dictionary to which the model refers, and how the text extracted from the pdf file was processed."
   ]
  },
  {
   "cell_type": "markdown",
   "metadata": {},
   "source": [
    "### <center>SEMANTIC ANALISYS</center>"
   ]
  },
  {
   "cell_type": "markdown",
   "metadata": {},
   "source": [
    "##### As for the semantic analysis, the embedding layer of the model contains 1085 words encoded as vectors of dimension 35. <br/> The spatial representation of the terms can be viewed through the PCA and the Tensorflow embedding projector in this case allows to simplify the operation: it is sufficient to save the dictionary in two files metadata.tsv and vectors.tsv and use the embedding projector at the site https://projector.tensorflow.org to view the result."
   ]
  },
  {
   "cell_type": "code",
   "execution_count": 32,
   "metadata": {},
   "outputs": [
    {
     "name": "stdout",
     "output_type": "stream",
     "text": [
      "number of words in the vocabolary:  1085 \n",
      "Vectors dimensions:  35\n"
     ]
    }
   ],
   "source": [
    "import io\n",
    "\n",
    "embedding_layer = model.layers[0]\n",
    "embedding_weights = embedding_layer.get_weights()[0]\n",
    "print(\"number of words in the vocabolary: \",embedding_weights.shape[0],'\\nVectors dimensions: ',embedding_weights.shape[1])\n",
    "out_v = io.open('vecs_res.tsv', 'w', encoding='utf-8')\n",
    "out_m = io.open('meta_res.tsv', 'w', encoding='utf-8')\n",
    "for word_n in range(1, vocab_size):\n",
    "    w = word_index[word_n]\n",
    "    emb = embedding_weights[word_n]\n",
    "    out_m.write(w + '\\n')\n",
    "    out_v.write('\\t'.join([str(x) for x in emb]) + '\\n')\n",
    "out_v.close()\n",
    "out_m.close()\n"
   ]
  },
  {
   "cell_type": "markdown",
   "metadata": {},
   "source": [
    "##### Loading the two .tsv files on the projector results in the following representation:"
   ]
  },
  {
   "cell_type": "markdown",
   "metadata": {},
   "source": [
    "# ![title](1.png)\n"
   ]
  },
  {
   "cell_type": "markdown",
   "metadata": {},
   "source": [
    "##### As we can see, since the model has trained to classify nominal phrases between skill and non-skill, the terms in the dictionary tend to form 2 clusters with similar semantic value."
   ]
  },
  {
   "cell_type": "markdown",
   "metadata": {},
   "source": [
    "##### Given a term (e.g. 'c ++') it is also possible to display the values that are more similar by calculating the cosine similarity:"
   ]
  },
  {
   "cell_type": "markdown",
   "metadata": {},
   "source": [
    "![title](2.png)"
   ]
  },
  {
   "cell_type": "markdown",
   "metadata": {},
   "source": [
    "##### However, the above representation refers to all terms in the dictionary built on the basis of all terms contained in the training dataset. <br/> For the semantic analysis of skills only it is therefore necessary to extract them from the complete dictionary. In our case, however, only the terms taken individually from the nominal phrases classified as skills can be extracted, as the model dictionary was built on single terms using the tokenizer: if this on one hand generates noise due to the fact that terms which do not represent skills are treated as skills, on the other hand it allows more detailed information on the context in which the single term is most used. <br/> An alternative approach could be to create a dictionary that also incorporates noun phrases or useful word groups, which would be encoded in the embedding. The latter option, however, could pose redundancy and skill recognition problems in new texts, as the sentences indicating skills should be formatted exactly like those in the model dictionary."
   ]
  },
  {
   "cell_type": "code",
   "execution_count": 33,
   "metadata": {},
   "outputs": [
    {
     "name": "stdout",
     "output_type": "stream",
     "text": [
      "['2', '2013', '3340', '387', 'ability', 'academic', 'accomplishments', 'achievements', 'additional', 'advanced', 'advising', 'advisor', 'aerodynamic', 'aerosol', 'aerosolnanoparticle', 'aerospace', 'agglomerated', 'aggregates', 'air', 'airborne', 'analysis', 'analyzer', 'angle', 'anical', 'anne', 'applications', 'appointments', 'area', 'article', 'arts', 'assessing', 'assistant', 'assistantships', 'assisting', 'associations', 'atomic', 'attention', 'author', 'autocad', 'autodesk', 'automotive', 'awards', 'bachelor', 'basic', 'books', 'brainstormed', 'c++', 'calculating', 'candidate', 'capability', 'career', 'center', 'certificate', 'certificates', 'certifications', 'cfd', 'cfr', 'characterized', 'chemical', 'classifications', 'cleanroom', 'clinical', 'coaching', 'coauthors', 'collaborate', 'college', 'colors', 'communication', 'community', 'competitive', 'complex', 'compliance', 'comprehensive', 'computer', 'computers', 'concentration', 'conduct', 'conference', 'conflict', 'contributing', 'control', 'convection', 'correction', 'counseling', 'counter', 'counters', 'courseadvanced', 'coworkers', 'creating', 'credit', 'curriculum', 'cv', 'database', 'decision', 'decisions', 'degree', 'depth', 'design', 'developing', 'device', 'diesel', 'diffusion', 'dolphin', 'dropin', 'editing', 'education', 'electrical', 'electron', 'electronic', 'element', 'emission', 'emissions', 'engine', 'engineering', 'engineers', 'english', 'estimation', 'excel', 'excellent', 'experience', 'experiences', 'experimental', 'expert', 'expression', 'extracting', 'faculty', 'fellowships', 'fields', 'filtration', 'findings', 'finite', 'flow', 'fluidized', 'force', 'fractal', 'garfield', 'gathering', 'general', 'generation', 'german', 'gineer', 'goals', 'goldy', 'gpa', 'graduate', 'grant', 'groups', 'heights', 'helping', 'high', 'homework', 'honorsfellowships', 'human', 'identifying', 'image', 'imagej', 'implementing', 'industry', 'information', 'instruments', 'intelligence', 'international', 'internship', 'interpersonal', 'interpretation', 'iso', 'java', 'javascript', 'john', 'journal', 'knowledge', 'lab', 'laboratory', 'labview', 'language', 'languages', 'leadership', 'lean', 'level', 'library', 'liquid', 'list', 'loading', 'loss', 'low', 'managing', 'manufacturing', 'many', 'mark', 'marketing', 'mass', 'master', 'masters', 'materials', 'mathcad', 'mathematica', 'matlab', 'may', 'measure', 'measurement', 'measurements', 'mechanical', 'meeting', 'meetings', 'mentor', 'michael', 'microscopes', 'microscopy', 'minneapolis', 'mn', 'monitor', 'morphology', 'motivating', 'ms', 'multidisciplinary', 'nanometer', 'nanoparticle', 'nanoparticles', 'natural', 'neutral', 'new', 'numerical', 'nurse', 'nursing', 'objective', 'office', 'oh', 'opinions', 'optical', 'organizations', 'outside', 'paper', 'particle', 'penetration', 'people', 'personalized', 'phd', 'planning', 'plasma', 'potential', 'practice', 'practitioners', 'prepare', 'presentations', 'presented', 'pressure', 'previous', 'problem', 'problems', 'problemsolving', 'proengineer', 'professional', 'proficiencies', 'program', 'project', 'projectquantification', 'projects', 'publications', 'publicationspresentations', 'published', 'pulsed', 'python', 'qualifications', 'qualities', 'quality', 'quantitative', 'reactor', 'realtime', 'relations', 'relationships', 'reports', 'reproducibility', 'research', 'resources', 'respect', 'results', 'resume', 'rhino', 'right', 'riter', 'safety', 'sampler', 'sampling', 'satisfaction', 'scheduling', 'scholarships', 'school', 'sci', 'science', 'sciences', 'search', 'selected', 'sem', 'sharing', 'sigma', 'significant', 'silane', 'silicon', 'silver', 'simulation', 'six', 'skill', 'skillful', 'skills', 'slip', 'smoke', 'social', 'soft', 'software', 'solidworks', 'solving', 'spanish', 'specific', 'spectroscopy', 'statement', 'statements', 'statistical', 'statisticalprocess', 'strength', 'strengths', 'strong', 'structure', 'student', 'students', 'studies', 'study', 'subject', 'suite', 'supervising', 'supervisor', 'support', 'surface', 'synthesis', 'system', 'systematic', 'tangible', 'teacher', 'teachers', 'teaching', 'team', 'teamwork', 'technical', 'techniques', 'technol', 'technologies', 'technology', 'tem', 'templates', 'theoretical', 'theories', 'thermalfluid', 'title', 'tool', 'track', 'transferable', 'transferrable', 'transport', 'understanding', 'universal', 'university', 'upgrading', 'velocimetry', 'vitae', 'weak', 'webbased', 'work', 'works', 'workshops', 'writing']\n"
     ]
    }
   ],
   "source": [
    "skills_list=df[df['skill']==1]\n",
    "#skills_list.head(20)\n",
    "skills_list=pd.Series(skills_list['chunck'].str.lower().values.tolist())\n",
    "skills_list = filter_stop_words(skills_list)\n",
    "skills_list=skills_list.str.cat(sep=' ')\n",
    "skills_list=skills_list.split()\n",
    "skills_words=list(set(skills_list))\n",
    "print(sorted(skills_words))"
   ]
  },
  {
   "cell_type": "markdown",
   "metadata": {},
   "source": [
    "##### Once the list of skill category terms is obtained, the corresponding vectors can be extracted from the dictionary, to do this it is necessary to invert the dictionary and obtain the key of the word to be passed to the list containing the vectors of all the terms"
   ]
  },
  {
   "cell_type": "code",
   "execution_count": 34,
   "metadata": {},
   "outputs": [],
   "source": [
    "reverse_word_index=dict([(value,key) for (key,value) in word_index.items()])"
   ]
  },
  {
   "cell_type": "code",
   "execution_count": 35,
   "metadata": {},
   "outputs": [],
   "source": [
    "w2v = io.open('emb_res_.txt', 'w')\n",
    "w2v.write(str(len(skills_list) - 1) + ' '+str(len_embedding)+'\\n')\n",
    "for word_n in skills_list:\n",
    "    w = reverse_word_index[word_n.lower()]\n",
    "    emb = embedding_weights[w-1]\n",
    "    w2v.write(word_n + ' ' + ' '.join([str(x) for x in emb]) + '\\n')\n",
    "w2v.close()"
   ]
  },
  {
   "cell_type": "markdown",
   "metadata": {},
   "source": [
    "##### The vec2graph library is used to represent relations in graph form. <br/> Given a single term or a list of terms, the \"visualize\" function creates a force-directed graph that reports an arbitrary number of terms characterized by greater similarity on the basis of the cosine similarity; it is therefore also possible to assign a threshold value so that the only nodes connected are those between which the cosine similarity assumes values equal to or greater than the threshold value. <br/> Below is the example graph for the word engineering:"
   ]
  },
  {
   "cell_type": "code",
   "execution_count": 36,
   "metadata": {},
   "outputs": [
    {
     "name": "stderr",
     "output_type": "stream",
     "text": [
      "Visualizations written to tmp/graphs\n"
     ]
    },
    {
     "data": {
      "text/plain": [
       "['engineering']"
      ]
     },
     "execution_count": 36,
     "metadata": {},
     "output_type": "execute_result"
    }
   ],
   "source": [
    "from gensim import models\n",
    "from vec2graph import visualize\n",
    "\n",
    "model_graph = models.KeyedVectors.load_word2vec_format('emb_res_.txt', binary=False, unicode_errors='replace')\n",
    "\n",
    "visualize('tmp/graphs', model_graph, words=['engineering'],topn=5,threshold=0.77)"
   ]
  },
  {
   "cell_type": "markdown",
   "metadata": {},
   "source": [
    "![title](3.png)"
   ]
  },
  {
   "cell_type": "markdown",
   "metadata": {},
   "source": [
    "##### The graph shown in the figure represents the 10 terms that are closest in semantic meaning to the word 'engineering' taken from the dictionary of skills created starting from the training dataset, two terms are connected if the value of the cosine of similarity between them is higher at 0.77."
   ]
  }
 ],
 "metadata": {
  "kernelspec": {
   "display_name": "Python 3",
   "language": "python",
   "name": "python3"
  },
  "language_info": {
   "codemirror_mode": {
    "name": "ipython",
    "version": 3
   },
   "file_extension": ".py",
   "mimetype": "text/x-python",
   "name": "python",
   "nbconvert_exporter": "python",
   "pygments_lexer": "ipython3",
   "version": "3.7.4"
  }
 },
 "nbformat": 4,
 "nbformat_minor": 4
}
